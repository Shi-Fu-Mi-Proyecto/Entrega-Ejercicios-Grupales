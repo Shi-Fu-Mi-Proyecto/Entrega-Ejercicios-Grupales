{
 "cells": [
  {
   "attachments": {},
   "cell_type": "markdown",
   "metadata": {},
   "source": [
    "E: entrada al laberinto  \n",
    "S: salida del laberinto  \n",
    "#: pared  \n",
    "x: bomba  \n",
    "o: túnel 1  \n",
    "O: túnel 2  "
   ]
  },
  {
   "cell_type": "code",
   "execution_count": 1,
   "metadata": {},
   "outputs": [],
   "source": [
    "laberinto = [\n",
    "    ['#','#','#','#','#','#','#','#','#','#'],\n",
    "    ['#',' ',' ','o',' ','O','#',' ',' ','S'],\n",
    "    ['E',' ',' ',' ','#','#',' ',' ',' ','#'],\n",
    "    ['#',' ',' ','#','#','O',' ',' ','#','#'],\n",
    "    ['#',' ',' ','x','#',' ',' ','x','x','#'],\n",
    "    ['#','o',' ',' ','#',' ',' ',' ',' ','S'],\n",
    "    ['#','#','#','#','#','#','#','#','#','#']\n",
    "]\n",
    "\n",
    "def imprimir_laberinto(laberinto):\n",
    "    for fila in laberinto:\n",
    "        for celda in fila:\n",
    "            print(celda, end=' ')\n",
    "        print()"
   ]
  },
  {
   "cell_type": "code",
   "execution_count": 2,
   "metadata": {},
   "outputs": [
    {
     "name": "stdout",
     "output_type": "stream",
     "text": [
      "# # # # # # # # # # \n",
      "#     o   O #     S \n",
      "E       # #       # \n",
      "#     # # O     # # \n",
      "#     x #     x x # \n",
      "# o     #         S \n",
      "# # # # # # # # # # \n"
     ]
    }
   ],
   "source": [
    "imprimir_laberinto(laberinto)"
   ]
  }
 ],
 "metadata": {
  "kernelspec": {
   "display_name": "Python 3",
   "language": "python",
   "name": "python3"
  },
  "language_info": {
   "codemirror_mode": {
    "name": "ipython",
    "version": 3
   },
   "file_extension": ".py",
   "mimetype": "text/x-python",
   "name": "python",
   "nbconvert_exporter": "python",
   "pygments_lexer": "ipython3",
   "version": "3.10.7 (tags/v3.10.7:6cc6b13, Sep  5 2022, 14:08:36) [MSC v.1933 64 bit (AMD64)]"
  },
  "orig_nbformat": 4,
  "vscode": {
   "interpreter": {
    "hash": "c63d8c7d738c2960218a10995aedf0a7f67a49a231e71037adf0440953cdb45b"
   }
  }
 },
 "nbformat": 4,
 "nbformat_minor": 2
}
