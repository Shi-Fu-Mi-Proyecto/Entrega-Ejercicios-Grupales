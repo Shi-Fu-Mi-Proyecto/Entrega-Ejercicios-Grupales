{
 "cells": [
  {
   "attachments": {},
   "cell_type": "markdown",
   "metadata": {},
   "source": [
    "A: entrada al laberinto  \n",
    "E: salida del laberinto  \n",
    "#: pared  \n",
    "x: bomba  \n",
    "o: túnel 1  \n",
    "O: túnel 2  "
   ]
  },
  {
   "cell_type": "code",
   "execution_count": 1,
   "metadata": {},
   "outputs": [],
   "source": [
    "laberinto = [\n",
    "    ['#','#','#','#','#','#','#','#','#','#'],\n",
    "    ['#',' ',' ','o',' ','O','#',' ',' ','E'],\n",
    "    ['#','A',' ',' ','#','#',' ',' ',' ','#'],\n",
    "    ['#',' ',' ','#','#','O',' ',' ','#','#'],\n",
    "    ['#',' ',' ','x','#',' ',' ','x','x','#'],\n",
    "    ['#','o',' ',' ','#',' ',' ',' ',' ','E'],\n",
    "    ['#','#','#','#','#','#','#','#','#','#']\n",
    "]\n",
    "\n",
    "def imprimir_laberinto(laberinto):\n",
    "    for fila in laberinto:\n",
    "        for celda in fila:\n",
    "            print(celda, end=' ')\n",
    "        print()"
   ]
  },
  {
   "cell_type": "code",
   "execution_count": 2,
   "metadata": {},
   "outputs": [
    {
     "name": "stdout",
     "output_type": "stream",
     "text": [
      "# # # # # # # # # # \n",
      "#     o   O #     E \n",
      "# A     # #       # \n",
      "#     # # O     # # \n",
      "#     x #     x x # \n",
      "# o     #         E \n",
      "# # # # # # # # # # \n"
     ]
    }
   ],
   "source": [
    "imprimir_laberinto(laberinto)"
   ]
  },
  {
   "cell_type": "code",
   "execution_count": 3,
   "metadata": {},
   "outputs": [],
   "source": [
    "import random\n",
    "\n",
    "def comprobar_celda_vacia(laberinto, fila, columna):\n",
    "    if laberinto[fila][columna] == ' ':\n",
    "        return True\n",
    "    else:\n",
    "        return False\n",
    "\n",
    "def tunel_1(lab, f, c): # posicion rana (f,c)\n",
    "    if (f,c) == (1,3):\n",
    "        lab[5][1] = 'A' # la rana se va al otro extremo del túnel\n",
    "        lab[f][c] = 'o'\n",
    "        return lab\n",
    "    elif (f,c) == (5,1):\n",
    "        lab[1][3] = 'A' # la rana se va al otro extremo del túnel\n",
    "        lab[f][c] = 'o'\n",
    "        return lab\n",
    "    \n",
    "def tunel_2(lab, f, c): # posicion rana (f,c)\n",
    "    if (f,c) == (1,5):\n",
    "        lab[3][5] = 'A' # la rana se va al otro extremo del túnel\n",
    "        lab[f][c] = 'O'\n",
    "        return lab\n",
    "    elif (f,c) == (3,5):\n",
    "        lab[1][5] = 'A' # la rana se va al otro extremo del túnel\n",
    "        lab[f][c] = 'O'\n",
    "        return lab\n",
    "\n",
    "def celda_no_vacia(lab, pos_inicial, pos_final):\n",
    "    f_R, c_R = pos_inicial\n",
    "    f_D, c_D = pos_final\n",
    "\n",
    "    if lab[f_D][c_D] == 'x': # si hay una bomba\n",
    "        return False # la rana muere\n",
    "                        \n",
    "    elif (f_D,c_D) == (1,3) or (f_D,c_D) == (5,1): # si hay un túnel de tipo 1\n",
    "        lab[f_D][c_D] = 'A'\n",
    "        lab[f_R][c_R] = ' '\n",
    "        return tunel_1(lab, f_D, c_D) # la rana se va al otro extremo del túnel 1\n",
    "    \n",
    "    elif (f_D,c_D) == (1,5) or (f_D,c_D) == (3,5):\n",
    "        lab[f_D][c_D] = 'A'\n",
    "        lab[f_R][c_R] = ' '\n",
    "        return tunel_2(lab, f_D, c_D) # la rana se va al otro extremo del túnel 2\n",
    "\n",
    "\n",
    "def moverse_a_celda_ady(lab):\n",
    "    '''\n",
    "    Funcion que hace que la rana se mueva a una celda vacía adyacente\n",
    "    -INPUT-----\n",
    "    lab: list\n",
    "        laberinto\n",
    "    f: int\n",
    "        fila de la posicion en la que se encuntra la rana\n",
    "    c: int\n",
    "        columna de la posicion en la que se encuntra la rana\n",
    "    -OUTPUT-----\n",
    "    lab: list\n",
    "        laberinto con la rana movida a una celda vacía adyacente\n",
    "    '''\n",
    "    for f in range(len(lab)):\n",
    "        for c in range(len(lab[f])):\n",
    "            \n",
    "            if lab[f][c] == 'A': # la rana está en la casilla (f,c)\n",
    "                p = random.randint(1,4) # prob. de moverse a una celda adyacente cualquiera\n",
    "                            \n",
    "                # puede moverse a la celda superior\n",
    "                if p == 1:\n",
    "                    if f>0 and comprobar_celda_vacia(lab, f-1, c): #nos aseguramos de f está en el rango adecuado\n",
    "                        lab[f-1][c] = 'A'\n",
    "                        lab[f][c] = ' ' # la anterior la dejamos vacía\n",
    "                        return lab\n",
    "                    elif f>0 and not comprobar_celda_vacia(lab, f-1, c): #si no es celda vacía\n",
    "                        return celda_no_vacia(lab, (f,c), (f-1,c)) #comprobamos si es una celda especial\n",
    "                    elif f<0:\n",
    "                        pass\n",
    "\n",
    "                # puede moverse a la celda de la izda\n",
    "                elif p == 2:\n",
    "                    if c>0 and comprobar_celda_vacia(lab, f, c-1):\n",
    "                        lab[f][c-1] = 'A'\n",
    "                        lab[f][c] = ' '\n",
    "                        return lab\n",
    "                    elif c>0 and not comprobar_celda_vacia(lab, f, c-1): #si no es celda vacía\n",
    "                        return celda_no_vacia(lab, (f,c), (f,c-1)) #aplicamos efecto celda especial\n",
    "                    elif c<0:\n",
    "                        pass\n",
    "\n",
    "                # puede moverse a la celda de la dcha\n",
    "                elif p == 3:\n",
    "                    if c<len(lab[f])-1 and comprobar_celda_vacia(lab, f, c+1):\n",
    "                        lab[f][c+1] = 'A'\n",
    "                        lab[f][c] = ' '\n",
    "                        return lab\n",
    "                    elif c<len(lab[f])-1 and not comprobar_celda_vacia(lab, f, c+1): #si no es celda vacía\n",
    "                        return celda_no_vacia(lab, (f,c), (f,c+1)) #aplicamos efecto celda especial\n",
    "                    elif c>len(lab[f])-1:\n",
    "                        pass\n",
    "\n",
    "                # puede moverse a la celda inferior\n",
    "                elif p == 4:\n",
    "                    if f < len(lab)-1 and comprobar_celda_vacia(lab, f+1, c):\n",
    "                        lab[f+1][c] = 'A'\n",
    "                        lab[f][c] = ' '\n",
    "                        return lab\n",
    "                    elif f < len(lab)-1 and not comprobar_celda_vacia(lab, f+1, c): #si no es celda vacía\n",
    "                        return celda_no_vacia(lab, (f,c), (f+1,c)) #aplicamos efecto celda especial\n",
    "                    elif f > len(lab)-1:\n",
    "                        pass\n",
    "            \n",
    "            else:\n",
    "                pass     "
   ]
  },
  {
   "cell_type": "code",
   "execution_count": 4,
   "metadata": {},
   "outputs": [
    {
     "name": "stdout",
     "output_type": "stream",
     "text": [
      "# # # # # # # # # # \n",
      "#     o   O #     E \n",
      "#   A   # #       # \n",
      "#     # # O     # # \n",
      "#     x #     x x # \n",
      "# o     #         E \n",
      "# # # # # # # # # # \n"
     ]
    }
   ],
   "source": [
    "laberinto1 = moverse_a_celda_ady(laberinto)\n",
    "imprimir_laberinto(laberinto1)"
   ]
  },
  {
   "cell_type": "code",
   "execution_count": 5,
   "metadata": {},
   "outputs": [
    {
     "name": "stdout",
     "output_type": "stream",
     "text": [
      "# # # # # # # # # # \n",
      "#     o   O #     E \n",
      "#     A # #       # \n",
      "#     # # O     # # \n",
      "#     x #     x x # \n",
      "# o     #         E \n",
      "# # # # # # # # # # \n"
     ]
    }
   ],
   "source": [
    "laberinto2 = moverse_a_celda_ady(laberinto1)\n",
    "imprimir_laberinto(laberinto2)"
   ]
  },
  {
   "cell_type": "code",
   "execution_count": 6,
   "metadata": {},
   "outputs": [
    {
     "name": "stdout",
     "output_type": "stream",
     "text": [
      "# # # # # # # # # # \n",
      "#     o   O #     E \n",
      "#   A   # #       # \n",
      "#     # # O     # # \n",
      "#     x #     x x # \n",
      "# o     #         E \n",
      "# # # # # # # # # # \n"
     ]
    }
   ],
   "source": [
    "laberinto3 = moverse_a_celda_ady(laberinto2)\n",
    "imprimir_laberinto(laberinto3)"
   ]
  },
  {
   "cell_type": "code",
   "execution_count": 7,
   "metadata": {},
   "outputs": [
    {
     "name": "stdout",
     "output_type": "stream",
     "text": [
      "# # # # # # # # # # \n",
      "#     o   O #     E \n",
      "#     A # #       # \n",
      "#     # # O     # # \n",
      "#     x #     x x # \n",
      "# o     #         E \n",
      "# # # # # # # # # # \n"
     ]
    }
   ],
   "source": [
    "laberinto4 = moverse_a_celda_ady(laberinto3)\n",
    "imprimir_laberinto(laberinto4)"
   ]
  },
  {
   "cell_type": "code",
   "execution_count": 9,
   "metadata": {},
   "outputs": [
    {
     "ename": "TypeError",
     "evalue": "'NoneType' object is not iterable",
     "output_type": "error",
     "traceback": [
      "\u001b[1;31m---------------------------------------------------------------------------\u001b[0m",
      "\u001b[1;31mTypeError\u001b[0m                                 Traceback (most recent call last)",
      "Cell \u001b[1;32mIn [9], line 2\u001b[0m\n\u001b[0;32m      1\u001b[0m laberinto5 \u001b[39m=\u001b[39m moverse_a_celda_ady(laberinto4)\n\u001b[1;32m----> 2\u001b[0m imprimir_laberinto(laberinto5)\n",
      "Cell \u001b[1;32mIn [1], line 12\u001b[0m, in \u001b[0;36mimprimir_laberinto\u001b[1;34m(laberinto)\u001b[0m\n\u001b[0;32m     11\u001b[0m \u001b[39mdef\u001b[39;00m \u001b[39mimprimir_laberinto\u001b[39m(laberinto):\n\u001b[1;32m---> 12\u001b[0m     \u001b[39mfor\u001b[39;00m fila \u001b[39min\u001b[39;00m laberinto:\n\u001b[0;32m     13\u001b[0m         \u001b[39mfor\u001b[39;00m celda \u001b[39min\u001b[39;00m fila:\n\u001b[0;32m     14\u001b[0m             \u001b[39mprint\u001b[39m(celda, end\u001b[39m=\u001b[39m\u001b[39m'\u001b[39m\u001b[39m \u001b[39m\u001b[39m'\u001b[39m)\n",
      "\u001b[1;31mTypeError\u001b[0m: 'NoneType' object is not iterable"
     ]
    }
   ],
   "source": [
    "laberinto5 = moverse_a_celda_ady(laberinto4)\n",
    "imprimir_laberinto(laberinto5)"
   ]
  }
 ],
 "metadata": {
  "kernelspec": {
   "display_name": "Python 3",
   "language": "python",
   "name": "python3"
  },
  "language_info": {
   "codemirror_mode": {
    "name": "ipython",
    "version": 3
   },
   "file_extension": ".py",
   "mimetype": "text/x-python",
   "name": "python",
   "nbconvert_exporter": "python",
   "pygments_lexer": "ipython3",
   "version": "3.10.7"
  },
  "orig_nbformat": 4,
  "vscode": {
   "interpreter": {
    "hash": "7330bce0b2fdd4a17b488f6c0415382ba9f39d464476f54a57180e60bf8c4a01"
   }
  }
 },
 "nbformat": 4,
 "nbformat_minor": 2
}
