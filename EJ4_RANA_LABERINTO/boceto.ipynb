{
 "cells": [
  {
   "attachments": {},
   "cell_type": "markdown",
   "metadata": {},
   "source": [
    "E: entrada al laberinto  \n",
    "S: salida del laberinto  \n",
    "#: pared  \n",
    "x: bomba  \n",
    "o: túnel 1  \n",
    "O: túnel 2  "
   ]
  },
  {
   "cell_type": "code",
   "execution_count": 1,
   "metadata": {},
   "outputs": [],
   "source": [
    "laberinto = [\n",
    "    ['#','#','#','#','#','#','#','#','#','#'],\n",
    "    ['#',' ',' ','o',' ','O','#',' ',' ','S'],\n",
    "    ['E',' ',' ',' ','#','#',' ',' ',' ','#'],\n",
    "    ['#',' ',' ','#','#','O',' ',' ','#','#'],\n",
    "    ['#',' ',' ','x','#',' ',' ','x','x','#'],\n",
    "    ['#','o',' ',' ','#',' ',' ',' ',' ','S'],\n",
    "    ['#','#','#','#','#','#','#','#','#','#']\n",
    "]\n",
    "\n",
    "def imprimir_laberinto(laberinto):\n",
    "    for fila in laberinto:\n",
    "        for celda in fila:\n",
    "            print(celda, end=' ')\n",
    "        print()"
   ]
  },
  {
   "cell_type": "code",
   "execution_count": 2,
   "metadata": {},
   "outputs": [
    {
     "name": "stdout",
     "output_type": "stream",
     "text": [
      "# # # # # # # # # # \n",
      "#     o   O #     S \n",
      "E       # #       # \n",
      "#     # # O     # # \n",
      "#     x #     x x # \n",
      "# o     #         S \n",
      "# # # # # # # # # # \n"
     ]
    }
   ],
   "source": [
    "imprimir_laberinto(laberinto)"
   ]
  }
 ],
 "metadata": {
  "kernelspec": {
   "display_name": "Python 3",
   "language": "python",
   "name": "python3"
  },
  "language_info": {
   "codemirror_mode": {
    "name": "ipython",
    "version": 3
   },
   "file_extension": ".py",
   "mimetype": "text/x-python",
   "name": "python",
   "nbconvert_exporter": "python",
   "pygments_lexer": "ipython3",
   "version": "3.10.7"
  },
  "orig_nbformat": 4,
  "vscode": {
   "interpreter": {
    "hash": "7330bce0b2fdd4a17b488f6c0415382ba9f39d464476f54a57180e60bf8c4a01"
   }
  }
 },
 "nbformat": 4,
 "nbformat_minor": 2
}
