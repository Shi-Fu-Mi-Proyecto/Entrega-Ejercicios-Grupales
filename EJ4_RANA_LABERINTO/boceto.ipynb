{
 "cells": [
  {
   "attachments": {},
   "cell_type": "markdown",
   "metadata": {},
   "source": [
    "A: entrada al laberinto  \n",
    "E: salida del laberinto  \n",
    "#: pared  \n",
    "x: bomba  \n",
    "o: túnel 1  \n",
    "O: túnel 2  "
   ]
  },
  {
   "cell_type": "code",
   "execution_count": 1,
   "metadata": {},
   "outputs": [],
   "source": [
    "laberinto = [\n",
    "    ['#','#','#','#','#','#','#','#','#','#'],\n",
    "    ['#',' ',' ','o',' ','O','#',' ',' ','E'],\n",
    "    ['#','A',' ',' ','#','#',' ',' ',' ','#'],\n",
    "    ['#',' ',' ','#','#','O',' ',' ','#','#'],\n",
    "    ['#',' ',' ','x','#',' ',' ','x','x','#'],\n",
    "    ['#','o',' ',' ','#',' ',' ',' ',' ','E'],\n",
    "    ['#','#','#','#','#','#','#','#','#','#']\n",
    "]\n",
    "\n",
    "def imprimir_laberinto(laberinto):\n",
    "    for fila in laberinto:\n",
    "        for celda in fila:\n",
    "            print(celda, end=' ')\n",
    "        print()"
   ]
  },
  {
   "cell_type": "code",
   "execution_count": 2,
   "metadata": {},
   "outputs": [
    {
     "name": "stdout",
     "output_type": "stream",
     "text": [
      "# # # # # # # # # # \n",
      "#     o   O #     E \n",
      "# A     # #       # \n",
      "#     # # O     # # \n",
      "#     x #     x x # \n",
      "# o     #         E \n",
      "# # # # # # # # # # \n"
     ]
    }
   ],
   "source": [
    "imprimir_laberinto(laberinto)"
   ]
  },
  {
   "cell_type": "code",
   "execution_count": 3,
   "metadata": {},
   "outputs": [],
   "source": [
    "import random\n",
    "\n",
    "def comprobar_celda_vacia(laberinto, fila, columna):\n",
    "    if laberinto[fila][columna] == ' ':\n",
    "        return True\n",
    "    else:\n",
    "        return False\n",
    "\n",
    "def tunel_1(lab, f, c): # posicion rana (f,c)\n",
    "    if (f,c) == (1,3):\n",
    "        lab[5][1] = 'A' # la rana se va al otro extremo del túnel\n",
    "        lab[f][c] = ' '\n",
    "        return lab\n",
    "    elif (f,c) == (5,1):\n",
    "        lab[1][3] = 'A' # la rana se va al otro extremo del túnel\n",
    "        lab[f][c] = ' '\n",
    "        return lab\n",
    "    \n",
    "def tunel_2(lab, f, c): # posicion rana (f,c)\n",
    "    if (f,c) == (1,5):\n",
    "        lab[3][5] = 'A' # la rana se va al otro extremo del túnel\n",
    "        lab[f][c] = ' '\n",
    "        return lab\n",
    "    elif (f,c) == (3,5):\n",
    "        lab[1][5] = 'A' # la rana se va al otro extremo del túnel\n",
    "        lab[f][c] = ' '\n",
    "        return lab\n",
    "\n",
    "def celda_no_vacia(lab, pos_inicial, pos_final):\n",
    "    f_R, c_R = pos_inicial\n",
    "    f_D, c_D = pos_final\n",
    "\n",
    "    if lab[f_D][c_D] == 'x': # si hay una bomba\n",
    "        return False # la rana muere\n",
    "                        \n",
    "    elif (f_D,c_D) == (1,3) or (f_D,c_D) == (5,1): # si hay un túnel de tipo 1\n",
    "        lab[f_D][c_D] = 'A'\n",
    "        lab[f_R][c_R] = ' '\n",
    "        return tunel_1(lab, f_D, c_D) # la rana se va al otro extremo del túnel 1\n",
    "    \n",
    "    elif (f_D,c_D) == (1,5) or (f_D,c_D) == (3,5):\n",
    "        lab[f_D][c_D] = 'A'\n",
    "        lab[f_R][c_R] = ' '\n",
    "        return tunel_2(lab, f_D, c_D) # la rana se va al otro extremo del túnel 2\n",
    "\n",
    "\n",
    "def moverse_a_celda_ady_vacia(lab):\n",
    "    '''\n",
    "    Funcion que hace que la rana se mueva a una celda vacía adyacente\n",
    "    -INPUT-----\n",
    "    lab: list\n",
    "        laberinto\n",
    "    f: int\n",
    "        fila de la posicion en la que se encuntra la rana\n",
    "    c: int\n",
    "        columna de la posicion en la que se encuntra la rana\n",
    "    -OUTPUT-----\n",
    "    lab: list\n",
    "        laberinto con la rana movida a una celda vacía adyacente\n",
    "    '''\n",
    "    for f in range(len(lab)):\n",
    "        for c in range(len(lab[f])):\n",
    "            \n",
    "            if lab[f][c] == 'A': # la rana está en la casilla (f,c)\n",
    "                p = random.randint(1,4) # prob. de moverse a una celda adyacente cualquiera\n",
    "                            \n",
    "                # puede moverse a la celda superior\n",
    "                if p == 1:\n",
    "                    if f>0 and comprobar_celda_vacia(lab, f-1, c): #nos aseguramos de f está en el rango adecuado\n",
    "                        lab[f-1][c] = 'A'\n",
    "                        lab[f][c] = ' ' # la anterior la dejamos vacía\n",
    "                        return lab\n",
    "                    elif f>0 and not comprobar_celda_vacia(lab, f-1, c): #si no es celda vacía\n",
    "                        if lab[f-1][c] == 'x': # si hay una bomba\n",
    "                            return False # la rana muere\n",
    "                        elif (f-1,c) == (1,3) or (f-1,c) == (5,1): # si hay un túnel de tipo 1\n",
    "                            lab[f-1][c] = 'A'\n",
    "                            lab[f][c] = ' '\n",
    "                            return tunel_1(lab, f-1, c) # la rana se va al otro extremo del túnel\n",
    "\n",
    "                        \n",
    "                            \n",
    "                # puede moverse a la celda de la izda\n",
    "                elif p == 2:\n",
    "                    and c > 0 and comprobar_celda_vacia(lab, f, c-1):\n",
    "                    lab[f][c-1] = 'A'\n",
    "                    lab[f][c] = ' '\n",
    "                    return lab\n",
    "\n",
    "                # puede moverse a la celda de la dcha\n",
    "                elif p == 3:\n",
    "                    and c < len(lab[f])-1 and comprobar_celda_vacia(lab, f, c+1):\n",
    "                    lab[f][c+1] = 'A'\n",
    "                    lab[f][c] = ' '\n",
    "                    return lab\n",
    "\n",
    "                # puede moverse a la celda inferior\n",
    "                elif p == 4:\n",
    "                    and f < len(lab)-1 and comprobar_celda_vacia(lab, f+1, c):\n",
    "                    lab[f+1][c] = 'A'\n",
    "                    lab[f][c] = ' '\n",
    "                    return lab\n",
    "            \n",
    "            else:\n",
    "                pass     "
   ]
  },
  {
   "cell_type": "code",
   "execution_count": null,
   "metadata": {},
   "outputs": [],
   "source": []
  },
  {
   "cell_type": "code",
   "execution_count": 4,
   "metadata": {},
   "outputs": [
    {
     "name": "stdout",
     "output_type": "stream",
     "text": [
      "# # # # # # # # # # \n",
      "#     o   O #     E \n",
      "#   A   # #       # \n",
      "#     # # O     # # \n",
      "#     x #     x x # \n",
      "# o     #         E \n",
      "# # # # # # # # # # \n"
     ]
    }
   ],
   "source": [
    "imprimir_laberinto( moverse_a_celda_vacia(laberinto) )"
   ]
  },
  {
   "cell_type": "code",
   "execution_count": null,
   "metadata": {},
   "outputs": [],
   "source": [
    "def moverse_a_celda_adyacente(lab):\n",
    "    '''\n",
    "    Funcion que hace que la rana se mueva a una celda vacía adyacente\n",
    "    -INPUT-----\n",
    "    lab: list\n",
    "        laberinto\n",
    "    f: int\n",
    "        fila de la posicion en la que se encuntra la rana\n",
    "    c: int\n",
    "        columna de la posicion en la que se encuntra la rana\n",
    "    -OUTPUT-----\n",
    "    lab: list\n",
    "        laberinto con la rana movida a una celda vacía adyacente\n",
    "    '''\n",
    "    for f in range(len(lab)):\n",
    "        for c in range(len(lab[f])):\n",
    "            \n",
    "            if lab[f][c] == 'A': # la rana está en la casilla (f,c)\n",
    "                \n",
    "                \n",
    "            \n",
    "            else:\n",
    "                pass "
   ]
  }
 ],
 "metadata": {
  "kernelspec": {
   "display_name": "Python 3",
   "language": "python",
   "name": "python3"
  },
  "language_info": {
   "codemirror_mode": {
    "name": "ipython",
    "version": 3
   },
   "file_extension": ".py",
   "mimetype": "text/x-python",
   "name": "python",
   "nbconvert_exporter": "python",
   "pygments_lexer": "ipython3",
   "version": "3.10.7 (tags/v3.10.7:6cc6b13, Sep  5 2022, 14:08:36) [MSC v.1933 64 bit (AMD64)]"
  },
  "orig_nbformat": 4,
  "vscode": {
   "interpreter": {
    "hash": "c63d8c7d738c2960218a10995aedf0a7f67a49a231e71037adf0440953cdb45b"
   }
  }
 },
 "nbformat": 4,
 "nbformat_minor": 2
}
